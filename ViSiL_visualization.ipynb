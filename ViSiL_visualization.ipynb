{
  "nbformat": 4,
  "nbformat_minor": 0,
  "metadata": {
    "accelerator": "GPU",
    "colab": {
      "provenance": [],
      "include_colab_link": true
    },
    "kernelspec": {
      "display_name": "Python 3",
      "name": "python3"
    }
  },
  "cells": [
    {
      "cell_type": "markdown",
      "metadata": {
        "id": "view-in-github",
        "colab_type": "text"
      },
      "source": [
        "<a href=\"https://colab.research.google.com/github/drrmh/Anamoly/blob/main/ViSiL_visualization.ipynb\" target=\"_parent\"><img src=\"https://colab.research.google.com/assets/colab-badge.svg\" alt=\"Open In Colab\"/></a>"
      ]
    },
    {
      "cell_type": "markdown",
      "metadata": {
        "id": "JyG45Qk3qQLS"
      },
      "source": [
        "# ViSiL: Fine-grained Spatio-Temporal Video Similarity Learning\n",
        "This is a google colab that demonstrates the ViSiL functionalities step-by-step."
      ]
    },
    {
      "cell_type": "markdown",
      "metadata": {
        "id": "MwEKOSNtLP0e"
      },
      "source": [
        "## Environment preperation\n",
        "Install Tensorflow and download ViSiL from the GitHub\n"
      ]
    },
    {
      "cell_type": "code",
      "metadata": {
        "cellView": "both",
        "id": "WUtu4316QSHL"
      },
      "source": [
        "!pip install tensorflow-gpu==1.15"
      ],
      "execution_count": null,
      "outputs": []
    },
    {
      "cell_type": "code",
      "metadata": {
        "cellView": "both",
        "id": "d-S-3nYLQSHb"
      },
      "source": [
        "!git clone https://github.com/MKLab-ITI/visil\n",
        "%cd visil\n",
        "!pip install -r requirements.txt\n",
        "!wget http://ndd.iti.gr/visil/ckpt.zip\n",
        "!unzip ckpt.zip\n",
        "!rm ckpt.zip"
      ],
      "execution_count": null,
      "outputs": []
    },
    {
      "cell_type": "markdown",
      "metadata": {
        "id": "TuV-Q-xFMLHW"
      },
      "source": [
        "Import the necessary classes and functions"
      ]
    },
    {
      "cell_type": "code",
      "metadata": {
        "id": "u_PEMnhYuStD",
        "outputId": "79e0af9f-9088-433a-d8fd-586da30f4ecd",
        "colab": {
          "base_uri": "https://localhost:8080/",
          "height": 356
        }
      },
      "source": [
        "import imageio\n",
        "import seaborn as sns\n",
        "import matplotlib.pyplot as plt\n",
        "\n",
        "from IPython import display\n",
        "from model.visil import ViSiL\n",
        "from datasets import load_video"
      ],
      "execution_count": 22,
      "outputs": [
        {
          "output_type": "error",
          "ename": "ModuleNotFoundError",
          "evalue": "ignored",
          "traceback": [
            "\u001b[0;31m---------------------------------------------------------------------------\u001b[0m",
            "\u001b[0;31mModuleNotFoundError\u001b[0m                       Traceback (most recent call last)",
            "\u001b[0;32m<ipython-input-22-657717f157de>\u001b[0m in \u001b[0;36m<module>\u001b[0;34m\u001b[0m\n\u001b[1;32m      4\u001b[0m \u001b[0;34m\u001b[0m\u001b[0m\n\u001b[1;32m      5\u001b[0m \u001b[0;32mfrom\u001b[0m \u001b[0mIPython\u001b[0m \u001b[0;32mimport\u001b[0m \u001b[0mdisplay\u001b[0m\u001b[0;34m\u001b[0m\u001b[0;34m\u001b[0m\u001b[0m\n\u001b[0;32m----> 6\u001b[0;31m \u001b[0;32mfrom\u001b[0m \u001b[0mmodel\u001b[0m\u001b[0;34m.\u001b[0m\u001b[0mvisil\u001b[0m \u001b[0;32mimport\u001b[0m \u001b[0mViSiL\u001b[0m\u001b[0;34m\u001b[0m\u001b[0;34m\u001b[0m\u001b[0m\n\u001b[0m\u001b[1;32m      7\u001b[0m \u001b[0;32mfrom\u001b[0m \u001b[0mdatasets\u001b[0m \u001b[0;32mimport\u001b[0m \u001b[0mload_video\u001b[0m\u001b[0;34m\u001b[0m\u001b[0;34m\u001b[0m\u001b[0m\n",
            "\u001b[0;31mModuleNotFoundError\u001b[0m: No module named 'model.visil'",
            "",
            "\u001b[0;31m---------------------------------------------------------------------------\u001b[0;32m\nNOTE: If your import is failing due to a missing package, you can\nmanually install dependencies using either !pip or !apt.\n\nTo view examples of installing some common dependencies, click the\n\"Open Examples\" button below.\n\u001b[0;31m---------------------------------------------------------------------------\u001b[0m\n"
          ],
          "errorDetails": {
            "actions": [
              {
                "action": "open_url",
                "actionText": "Open Examples",
                "url": "/notebooks/snippets/importing_libraries.ipynb"
              }
            ]
          }
        }
      ]
    },
    {
      "cell_type": "markdown",
      "metadata": {
        "id": "2qUgEcL7KuzC"
      },
      "source": [
        "## Run model given a video pair\n",
        "\n",
        "First, you have to initialize ViSiL model and load pre-trained weights"
      ]
    },
    {
      "cell_type": "code",
      "metadata": {
        "cellView": "both",
        "id": "5OCYEvK5QSHf"
      },
      "source": [
        "model = ViSiL('ckpt/resnet/')"
      ],
      "execution_count": null,
      "outputs": []
    },
    {
      "cell_type": "markdown",
      "metadata": {
        "id": "yTVhJZO8LvN_"
      },
      "source": [
        "### Video loading\n",
        "Load the two videos from the video files"
      ]
    },
    {
      "cell_type": "code",
      "metadata": {
        "id": "ph-dRgoXujO2"
      },
      "source": [
        "video1 = load_video(\"examples/video1.gif\")\n",
        "video2 = load_video(\"examples/video2.gif\")"
      ],
      "execution_count": null,
      "outputs": []
    },
    {
      "cell_type": "code",
      "metadata": {
        "colab": {
          "base_uri": "https://localhost:8080/"
        },
        "id": "D5R5bIOGCWri",
        "outputId": "1e6fcf2e-a259-4695-e3e1-ff63c2bce6e0"
      },
      "source": [
        "print('video1 shape:', video1.shape)\n",
        "print('video2 shape:', video2.shape)"
      ],
      "execution_count": null,
      "outputs": [
        {
          "name": "stdout",
          "output_type": "stream",
          "text": [
            "video1 shape: (60, 256, 256, 3)\n",
            "video2 shape: (60, 256, 256, 3)\n"
          ]
        }
      ]
    },
    {
      "cell_type": "markdown",
      "metadata": {
        "id": "5Lg0zvTCC-s4"
      },
      "source": [
        "Display videos"
      ]
    },
    {
      "cell_type": "code",
      "metadata": {
        "colab": {
          "background_save": true
        },
        "id": "m6fLbJbmBM_R"
      },
      "source": [
        "with open('examples/video1.gif','rb') as f:\n",
        "    display.display(display.Image(data=f.read()))"
      ],
      "execution_count": null,
      "outputs": []
    },
    {
      "cell_type": "code",
      "metadata": {
        "colab": {
          "background_save": true
        },
        "id": "ERRcwFwz3FQ_"
      },
      "source": [
        "with open('examples/video2.gif','rb') as f:\n",
        "    display.display(display.Image(data=f.read()))"
      ],
      "execution_count": null,
      "outputs": []
    },
    {
      "cell_type": "markdown",
      "metadata": {
        "id": "yGUSvmFKMtWH"
      },
      "source": [
        "### Feature extraction\n",
        "Extract features for the two videos by proving the videos to the network."
      ]
    },
    {
      "cell_type": "code",
      "metadata": {
        "cellView": "both",
        "colab": {
          "background_save": true
        },
        "id": "zqGrv0blQSHj"
      },
      "source": [
        "video1_features = model.extract_features(video1, batch_sz=32)\n",
        "video2_features = model.extract_features(video2, batch_sz=32)"
      ],
      "execution_count": null,
      "outputs": []
    },
    {
      "cell_type": "code",
      "metadata": {
        "colab": {
          "background_save": true
        },
        "id": "tLSpj7FbCnQN",
        "outputId": "abbcc2e6-695b-432b-8c2a-79e7e38a0f1b"
      },
      "source": [
        "print('video1 features shape:', video1_features.shape)\n",
        "print('video2 features shape:', video2_features.shape)"
      ],
      "execution_count": null,
      "outputs": [
        {
          "name": "stdout",
          "output_type": "stream",
          "text": [
            "video1 features shape: (60, 9, 3840)\n",
            "video2 features shape: (60, 9, 3840)\n"
          ]
        }
      ]
    },
    {
      "cell_type": "markdown",
      "metadata": {
        "id": "6dbVHROgMvML"
      },
      "source": [
        "### Similarity calculation\n",
        "Once you have extracted the features for the two videos, you can calculate the similarity between them based on the ViSiL network."
      ]
    },
    {
      "cell_type": "code",
      "metadata": {
        "colab": {
          "background_save": true
        },
        "id": "MGKGINxEu1GZ",
        "outputId": "da6842ab-94f3-41fc-9869-8eac17de6444"
      },
      "source": [
        "similarity = model.calculate_video_similarity(video1_features, video2_features)\n",
        "print('similarity score:', similarity)"
      ],
      "execution_count": null,
      "outputs": [
        {
          "name": "stdout",
          "output_type": "stream",
          "text": [
            "similarity score: 0.64358026\n"
          ]
        }
      ]
    },
    {
      "cell_type": "markdown",
      "metadata": {
        "id": "JCMNALe0DS0R"
      },
      "source": [
        "### Plot the matrices\n",
        "First, define a visualization function"
      ]
    },
    {
      "cell_type": "code",
      "metadata": {
        "colab": {
          "background_save": true
        },
        "id": "LRGIGRXoDKBR"
      },
      "source": [
        "def visualize_matrix(sim_matrix, title, step=1):\n",
        "  # create a heatmap based on the input similarity matrix\n",
        "  ax = sns.heatmap(sim_matrix, cmap=\"jet\", cbar=False, square=True)\n",
        "\n",
        "  # set axes ticks\n",
        "  ax.set_xticklabels(map(lambda s: \"%02d:%02d\" % divmod(s*step, 60), ax.get_xticks()-0.5))\n",
        "  for ind, label in enumerate(ax.get_xticklabels()):\n",
        "      label.set_visible(ind % 3 == 0)\n",
        "  ax.set_yticklabels(map(lambda s: \"%02d:%02d\" % divmod(s*step, 60), ax.get_yticks()-0.5))\n",
        "  for ind, label in enumerate(ax.get_yticklabels()):\n",
        "      label.set_visible(ind % 2 == 0)\n",
        "\n",
        "  plt.xticks(rotation=45)\n",
        "  plt.yticks(rotation=0)\n",
        "  plt.title(title)\n",
        "\n",
        "  plt.show()"
      ],
      "execution_count": null,
      "outputs": []
    },
    {
      "cell_type": "markdown",
      "metadata": {
        "id": "zVei_v1ODZjh"
      },
      "source": [
        "Calculate and plot the frame-to-frame similarity matrix. It is evident that there is a lot of noise and temporal patterns are not easily recognizable."
      ]
    },
    {
      "cell_type": "code",
      "metadata": {
        "colab": {
          "background_save": true
        },
        "id": "N6Cr_gkovD_X",
        "outputId": "f2869c65-4fbf-4527-a7d7-d7aae1068450"
      },
      "source": [
        "sim_matrix = model.calculate_f2f_matrix(video1_features, video2_features)\n",
        "visualize_matrix(sim_matrix, 'Frame-to-frame matrix')"
      ],
      "execution_count": null,
      "outputs": [
        {
          "data": {
            "image/png": "[encoded data removed]",
            "text/plain": [
              "<Figure size 432x288 with 1 Axes>"
            ]
          },
          "metadata": {},
          "output_type": "display_data"
        }
      ]
    },
    {
      "cell_type": "markdown",
      "metadata": {
        "id": "EPM7Ieanwdcl"
      },
      "source": [
        "Calculate and plot the ViSiL output. The temporal alignment between the two videos is much more distinct in the network's output than in the frame-to-frame similarity matrix, and a lot of noise has been suppressed."
      ]
    },
    {
      "cell_type": "code",
      "metadata": {
        "colab": {
          "background_save": true
        },
        "id": "AxNXqbUXwcWW",
        "outputId": "78f19ea2-fb00-44eb-cfa1-34fa4e02c528"
      },
      "source": [
        "sim_matrix = model.calculate_visil_output(video1_features, video2_features)\n",
        "visualize_matrix(sim_matrix, 'ViSiL output', step=4)"
      ],
      "execution_count": null,
      "outputs": [
        {
          "data": {
            "image/png": "[encoded data removed]",
            "text/plain": [
              "<Figure size 432x288 with 1 Axes>"
            ]
          },
          "metadata": {},
          "output_type": "display_data"
        }
      ]
    }
  ]
}